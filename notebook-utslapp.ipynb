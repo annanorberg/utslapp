{
 "cells": [
  {
   "cell_type": "markdown",
   "metadata": {},
   "source": [
    "# Analys av klimatpåverkande utsläpp från svenska anläggningar\n",
    "\n",
    "av [Anna Norberg](www.twitter.com/annanorberg)  \n",
    "\n",
    "Grunddata kommer från det svenska [utsläppsregistret](http://utslappisiffror.naturvardsverket.se/) \"Utsläpp i siffror\" hos Naturvårdsverket dit företagen själva rapporterar in från sina miljörapporter. Resultatet från analysen användes som underlag till en artikel som skickades ut till Nyhetsbyrån Sirens kunder den 12 december 2019.  "
   ]
  },
  {
   "cell_type": "code",
   "execution_count": 41,
   "metadata": {},
   "outputs": [],
   "source": [
    "options(scipen=999, warn=-1)\n",
    "\n",
    "library(dplyr)\n",
    "library(here)\n",
    "library(readr)\n",
    "library(openxlsx)\n",
    "library(reshape2)\n",
    "library(readxl)\n",
    "library(tidyr)"
   ]
  },
  {
   "cell_type": "markdown",
   "metadata": {},
   "source": [
    "**Läs in data.** \n",
    "\n",
    "Från \"Utsläpp i siffror\" fås tre separata Excelfiler, en för varje ämne och alla anläggningar. Potentiellt borde en kunna ladda ner bara en Excelfil med alla anläggningar och alla valda ämnen, men det lyckades inte."
   ]
  },
  {
   "cell_type": "code",
   "execution_count": 42,
   "metadata": {},
   "outputs": [],
   "source": [
    "raw_CH4 <- read_excel(here(\"raw_data\", \"CH4.xlsx\"), skip=5)\n",
    "raw_CO2fossilt <- read_excel(here(\"raw_data\", \"CO2fossilt.xlsx\"), skip=5)\n",
    "raw_N2O <- read_excel(here(\"raw_data\", \"N2O.xlsx\"), skip=5)"
   ]
  },
  {
   "cell_type": "markdown",
   "metadata": {},
   "source": [
    "Så här ser grundfilen ut."
   ]
  },
  {
   "cell_type": "code",
   "execution_count": 43,
   "metadata": {},
   "outputs": [
    {
     "data": {
      "text/html": [
       "<table>\n",
       "<caption>A tibble: 6 × 19</caption>\n",
       "<thead>\n",
       "\t<tr><th scope=col>Anläggning</th><th scope=col>Verksamhet enligt PRTR</th><th scope=col>Verksamhet enligt MPF</th><th scope=col>Län</th><th scope=col>Kommun</th><th scope=col>Vattendistrikt</th><th scope=col>Organisation</th><th scope=col>Organisationsnummer</th><th scope=col>Fastighetsbeteckning</th><th scope=col>Tillsynsmyndighet</th><th scope=col>Miljöledningssystem</th><th scope=col>År</th><th scope=col>Ämne</th><th scope=col>Utsläpp till luft (kg)</th><th scope=col>Metod</th><th scope=col>Summa utsläpp till luft för länet under året</th><th scope=col>Summa utsläpp till vatten för länet under året</th><th scope=col>Summa utsläpp till reningsverk för länet under året</th><th scope=col>Summa alla utsläpp till luft under året</th></tr>\n",
       "\t<tr><th scope=col>&lt;chr&gt;</th><th scope=col>&lt;chr&gt;</th><th scope=col>&lt;chr&gt;</th><th scope=col>&lt;chr&gt;</th><th scope=col>&lt;chr&gt;</th><th scope=col>&lt;chr&gt;</th><th scope=col>&lt;chr&gt;</th><th scope=col>&lt;chr&gt;</th><th scope=col>&lt;chr&gt;</th><th scope=col>&lt;chr&gt;</th><th scope=col>&lt;chr&gt;</th><th scope=col>&lt;dbl&gt;</th><th scope=col>&lt;chr&gt;</th><th scope=col>&lt;dbl&gt;</th><th scope=col>&lt;chr&gt;</th><th scope=col>&lt;dbl&gt;</th><th scope=col>&lt;dbl&gt;</th><th scope=col>&lt;dbl&gt;</th><th scope=col>&lt;dbl&gt;</th></tr>\n",
       "</thead>\n",
       "<tbody>\n",
       "\t<tr><td>Annelunds Avfallsupplag                  </td><td>5.(d) Avfallsdeponier (utom deponier för inert avfall och deponier som stängdes definitivt före den 16 juli 2001 eller för vilka den efterbehandlingsfasenenligt artikel 13 - 1999/31/EG av den 26 april 1999 löpt ut)</td><td>90.300-i Deponering                    </td><td>Uppsala län    </td><td>Enköping  </td><td>Norra Östersjön</td><td>VafabMiljö kommunalförbund              </td><td>222000-3129</td><td>SNEDEN S:1      </td><td>Enköpings kommun               </td><td>ISO 14001                          </td><td>2018</td><td>CH4</td><td> 202000</td><td>C</td><td> 220200</td><td>0</td><td>0</td><td>12152750</td></tr>\n",
       "\t<tr><td>Atleverket                               </td><td>5.(d) Avfallsdeponier (utom deponier för inert avfall och deponier som stängdes definitivt före den 16 juli 2001 eller för vilka den efterbehandlingsfasenenligt artikel 13 - 1999/31/EG av den 26 april 1999 löpt ut)</td><td>90.290-i Deponering                    </td><td>Örebro län     </td><td>Örebro    </td><td>Norra Östersjön</td><td>Tekniska förvaltningen, Örebro kommun   </td><td>212000-1967</td><td>ATTERSTA 7:8    </td><td>Örebro kommun                  </td><td>Miljödiplomering (certifierad 2018)</td><td>2018</td><td>CH4</td><td>1446190</td><td>C</td><td>1467974</td><td>0</td><td>0</td><td>12152750</td></tr>\n",
       "\t<tr><td>Beleverket i Hässleholm                  </td><td>1.(c) Värmekraftverk och andra förbränningsanläggningar                                                                                                                                                               </td><td>90.210-i Förbränning                   </td><td>Skåne län      </td><td>Hässleholm</td><td>Södra Östersjön</td><td>Hässleholm Miljö AB                     </td><td>556555-0349</td><td>HÄSSLEHOLM 87:10</td><td>Hässleholms kommun             </td><td>NA                                 </td><td>2018</td><td>CH4</td><td>    175</td><td>M</td><td> 893232</td><td>0</td><td>0</td><td>12152750</td></tr>\n",
       "\t<tr><td>BillerudKorsnäs Karlsborgs AB            </td><td>6.(a) Anläggningar för framställning av pappersmassa av trä eller liknande fibrösa material                                                                                                                           </td><td>21.10-i  Massa, papper och pappersvaror</td><td>Norrbottens län</td><td>Kalix     </td><td>Bottenviken    </td><td>BillerudKorsnäs Sweden AB Karlsborg Bruk</td><td>556876-2974</td><td>Karlsborg 3:1   </td><td>Länsstyrelsen i Norrbottens län</td><td>ISO 14001                          </td><td>2018</td><td>CH4</td><td>  18093</td><td>C</td><td>  72589</td><td>0</td><td>0</td><td>12152750</td></tr>\n",
       "\t<tr><td>BillerudKorsnäs Rockhammar AB            </td><td>6.(a) Anläggningar för framställning av pappersmassa av trä eller liknande fibrösa material                                                                                                                           </td><td>21.10-i  Massa, papper och pappersvaror</td><td>Örebro län     </td><td>Lindesberg</td><td>Norra Östersjön</td><td>BillerudKorsnäs Rockhammar AB           </td><td>556761-2436</td><td>ROCKHAMMAR 1:3  </td><td>Länsstyrelsen i Örebro län     </td><td>ISO 14001:2004                     </td><td>2018</td><td>CH4</td><td>    835</td><td>C</td><td>1467974</td><td>0</td><td>0</td><td>12152750</td></tr>\n",
       "\t<tr><td>BillerudKorsnäs Skog &amp; Industri AB, Frövi</td><td><span style=white-space:pre-wrap>6.(a) Anläggningar för framställning av pappersmassa av trä eller liknande fibrösa material                                                                                                                           </span></td><td><span style=white-space:pre-wrap>21.10-i  Massa, papper och pappersvaror</span></td><td><span style=white-space:pre-wrap>Örebro län     </span></td><td>Lindesberg</td><td>Norra Östersjön</td><td><span style=white-space:pre-wrap>BillerudKorsnäs Skog &amp; Industri AB      </span></td><td>556023-8338</td><td><span style=white-space:pre-wrap>FRÖVI 1:46      </span></td><td><span style=white-space:pre-wrap>Länsstyrelsen i Örebro län     </span></td><td><span style=white-space:pre-wrap>ISO 14001:2004                     </span></td><td>2018</td><td>CH4</td><td><span style=white-space:pre-wrap>  20949</span></td><td>C</td><td>1467974</td><td>0</td><td>0</td><td>12152750</td></tr>\n",
       "</tbody>\n",
       "</table>\n"
      ],
      "text/latex": [
       "A tibble: 6 × 19\n",
       "\\begin{tabular}{lllllllllllllllllll}\n",
       " Anläggning & Verksamhet enligt PRTR & Verksamhet enligt MPF & Län & Kommun & Vattendistrikt & Organisation & Organisationsnummer & Fastighetsbeteckning & Tillsynsmyndighet & Miljöledningssystem & År & Ämne & Utsläpp till luft (kg) & Metod & Summa utsläpp till luft för länet under året & Summa utsläpp till vatten för länet under året & Summa utsläpp till reningsverk för länet under året & Summa alla utsläpp till luft under året\\\\\n",
       " <chr> & <chr> & <chr> & <chr> & <chr> & <chr> & <chr> & <chr> & <chr> & <chr> & <chr> & <dbl> & <chr> & <dbl> & <chr> & <dbl> & <dbl> & <dbl> & <dbl>\\\\\n",
       "\\hline\n",
       "\t Annelunds Avfallsupplag                   & 5.(d) Avfallsdeponier (utom deponier för inert avfall och deponier som stängdes definitivt före den 16 juli 2001 eller för vilka den efterbehandlingsfasenenligt artikel 13 - 1999/31/EG av den 26 april 1999 löpt ut) & 90.300-i Deponering                     & Uppsala län     & Enköping   & Norra Östersjön & VafabMiljö kommunalförbund               & 222000-3129 & SNEDEN S:1       & Enköpings kommun                & ISO 14001                           & 2018 & CH4 &  202000 & C &  220200 & 0 & 0 & 12152750\\\\\n",
       "\t Atleverket                                & 5.(d) Avfallsdeponier (utom deponier för inert avfall och deponier som stängdes definitivt före den 16 juli 2001 eller för vilka den efterbehandlingsfasenenligt artikel 13 - 1999/31/EG av den 26 april 1999 löpt ut) & 90.290-i Deponering                     & Örebro län      & Örebro     & Norra Östersjön & Tekniska förvaltningen, Örebro kommun    & 212000-1967 & ATTERSTA 7:8     & Örebro kommun                   & Miljödiplomering (certifierad 2018) & 2018 & CH4 & 1446190 & C & 1467974 & 0 & 0 & 12152750\\\\\n",
       "\t Beleverket i Hässleholm                   & 1.(c) Värmekraftverk och andra förbränningsanläggningar                                                                                                                                                                & 90.210-i Förbränning                    & Skåne län       & Hässleholm & Södra Östersjön & Hässleholm Miljö AB                      & 556555-0349 & HÄSSLEHOLM 87:10 & Hässleholms kommun              & NA                                  & 2018 & CH4 &     175 & M &  893232 & 0 & 0 & 12152750\\\\\n",
       "\t BillerudKorsnäs Karlsborgs AB             & 6.(a) Anläggningar för framställning av pappersmassa av trä eller liknande fibrösa material                                                                                                                            & 21.10-i  Massa, papper och pappersvaror & Norrbottens län & Kalix      & Bottenviken     & BillerudKorsnäs Sweden AB Karlsborg Bruk & 556876-2974 & Karlsborg 3:1    & Länsstyrelsen i Norrbottens län & ISO 14001                           & 2018 & CH4 &   18093 & C &   72589 & 0 & 0 & 12152750\\\\\n",
       "\t BillerudKorsnäs Rockhammar AB             & 6.(a) Anläggningar för framställning av pappersmassa av trä eller liknande fibrösa material                                                                                                                            & 21.10-i  Massa, papper och pappersvaror & Örebro län      & Lindesberg & Norra Östersjön & BillerudKorsnäs Rockhammar AB            & 556761-2436 & ROCKHAMMAR 1:3   & Länsstyrelsen i Örebro län      & ISO 14001:2004                      & 2018 & CH4 &     835 & C & 1467974 & 0 & 0 & 12152750\\\\\n",
       "\t BillerudKorsnäs Skog \\& Industri AB, Frövi & 6.(a) Anläggningar för framställning av pappersmassa av trä eller liknande fibrösa material                                                                                                                            & 21.10-i  Massa, papper och pappersvaror & Örebro län      & Lindesberg & Norra Östersjön & BillerudKorsnäs Skog \\& Industri AB       & 556023-8338 & FRÖVI 1:46       & Länsstyrelsen i Örebro län      & ISO 14001:2004                      & 2018 & CH4 &   20949 & C & 1467974 & 0 & 0 & 12152750\\\\\n",
       "\\end{tabular}\n"
      ],
      "text/markdown": [
       "\n",
       "A tibble: 6 × 19\n",
       "\n",
       "| Anläggning &lt;chr&gt; | Verksamhet enligt PRTR &lt;chr&gt; | Verksamhet enligt MPF &lt;chr&gt; | Län &lt;chr&gt; | Kommun &lt;chr&gt; | Vattendistrikt &lt;chr&gt; | Organisation &lt;chr&gt; | Organisationsnummer &lt;chr&gt; | Fastighetsbeteckning &lt;chr&gt; | Tillsynsmyndighet &lt;chr&gt; | Miljöledningssystem &lt;chr&gt; | År &lt;dbl&gt; | Ämne &lt;chr&gt; | Utsläpp till luft (kg) &lt;dbl&gt; | Metod &lt;chr&gt; | Summa utsläpp till luft för länet under året &lt;dbl&gt; | Summa utsläpp till vatten för länet under året &lt;dbl&gt; | Summa utsläpp till reningsverk för länet under året &lt;dbl&gt; | Summa alla utsläpp till luft under året &lt;dbl&gt; |\n",
       "|---|---|---|---|---|---|---|---|---|---|---|---|---|---|---|---|---|---|---|\n",
       "| Annelunds Avfallsupplag                   | 5.(d) Avfallsdeponier (utom deponier för inert avfall och deponier som stängdes definitivt före den 16 juli 2001 eller för vilka den efterbehandlingsfasenenligt artikel 13 - 1999/31/EG av den 26 april 1999 löpt ut) | 90.300-i Deponering                     | Uppsala län     | Enköping   | Norra Östersjön | VafabMiljö kommunalförbund               | 222000-3129 | SNEDEN S:1       | Enköpings kommun                | ISO 14001                           | 2018 | CH4 |  202000 | C |  220200 | 0 | 0 | 12152750 |\n",
       "| Atleverket                                | 5.(d) Avfallsdeponier (utom deponier för inert avfall och deponier som stängdes definitivt före den 16 juli 2001 eller för vilka den efterbehandlingsfasenenligt artikel 13 - 1999/31/EG av den 26 april 1999 löpt ut) | 90.290-i Deponering                     | Örebro län      | Örebro     | Norra Östersjön | Tekniska förvaltningen, Örebro kommun    | 212000-1967 | ATTERSTA 7:8     | Örebro kommun                   | Miljödiplomering (certifierad 2018) | 2018 | CH4 | 1446190 | C | 1467974 | 0 | 0 | 12152750 |\n",
       "| Beleverket i Hässleholm                   | 1.(c) Värmekraftverk och andra förbränningsanläggningar                                                                                                                                                                | 90.210-i Förbränning                    | Skåne län       | Hässleholm | Södra Östersjön | Hässleholm Miljö AB                      | 556555-0349 | HÄSSLEHOLM 87:10 | Hässleholms kommun              | NA                                  | 2018 | CH4 |     175 | M |  893232 | 0 | 0 | 12152750 |\n",
       "| BillerudKorsnäs Karlsborgs AB             | 6.(a) Anläggningar för framställning av pappersmassa av trä eller liknande fibrösa material                                                                                                                            | 21.10-i  Massa, papper och pappersvaror | Norrbottens län | Kalix      | Bottenviken     | BillerudKorsnäs Sweden AB Karlsborg Bruk | 556876-2974 | Karlsborg 3:1    | Länsstyrelsen i Norrbottens län | ISO 14001                           | 2018 | CH4 |   18093 | C |   72589 | 0 | 0 | 12152750 |\n",
       "| BillerudKorsnäs Rockhammar AB             | 6.(a) Anläggningar för framställning av pappersmassa av trä eller liknande fibrösa material                                                                                                                            | 21.10-i  Massa, papper och pappersvaror | Örebro län      | Lindesberg | Norra Östersjön | BillerudKorsnäs Rockhammar AB            | 556761-2436 | ROCKHAMMAR 1:3   | Länsstyrelsen i Örebro län      | ISO 14001:2004                      | 2018 | CH4 |     835 | C | 1467974 | 0 | 0 | 12152750 |\n",
       "| BillerudKorsnäs Skog &amp; Industri AB, Frövi | 6.(a) Anläggningar för framställning av pappersmassa av trä eller liknande fibrösa material                                                                                                                            | 21.10-i  Massa, papper och pappersvaror | Örebro län      | Lindesberg | Norra Östersjön | BillerudKorsnäs Skog &amp; Industri AB       | 556023-8338 | FRÖVI 1:46       | Länsstyrelsen i Örebro län      | ISO 14001:2004                      | 2018 | CH4 |   20949 | C | 1467974 | 0 | 0 | 12152750 |\n",
       "\n"
      ],
      "text/plain": [
       "  Anläggning                               \n",
       "1 Annelunds Avfallsupplag                  \n",
       "2 Atleverket                               \n",
       "3 Beleverket i Hässleholm                  \n",
       "4 BillerudKorsnäs Karlsborgs AB            \n",
       "5 BillerudKorsnäs Rockhammar AB            \n",
       "6 BillerudKorsnäs Skog & Industri AB, Frövi\n",
       "  Verksamhet enligt PRTR                                                                                                                                                                                                \n",
       "1 5.(d) Avfallsdeponier (utom deponier för inert avfall och deponier som stängdes definitivt före den 16 juli 2001 eller för vilka den efterbehandlingsfasenenligt artikel 13 - 1999/31/EG av den 26 april 1999 löpt ut)\n",
       "2 5.(d) Avfallsdeponier (utom deponier för inert avfall och deponier som stängdes definitivt före den 16 juli 2001 eller för vilka den efterbehandlingsfasenenligt artikel 13 - 1999/31/EG av den 26 april 1999 löpt ut)\n",
       "3 1.(c) Värmekraftverk och andra förbränningsanläggningar                                                                                                                                                               \n",
       "4 6.(a) Anläggningar för framställning av pappersmassa av trä eller liknande fibrösa material                                                                                                                           \n",
       "5 6.(a) Anläggningar för framställning av pappersmassa av trä eller liknande fibrösa material                                                                                                                           \n",
       "6 6.(a) Anläggningar för framställning av pappersmassa av trä eller liknande fibrösa material                                                                                                                           \n",
       "  Verksamhet enligt MPF                   Län             Kommun    \n",
       "1 90.300-i Deponering                     Uppsala län     Enköping  \n",
       "2 90.290-i Deponering                     Örebro län      Örebro    \n",
       "3 90.210-i Förbränning                    Skåne län       Hässleholm\n",
       "4 21.10-i  Massa, papper och pappersvaror Norrbottens län Kalix     \n",
       "5 21.10-i  Massa, papper och pappersvaror Örebro län      Lindesberg\n",
       "6 21.10-i  Massa, papper och pappersvaror Örebro län      Lindesberg\n",
       "  Vattendistrikt  Organisation                             Organisationsnummer\n",
       "1 Norra Östersjön VafabMiljö kommunalförbund               222000-3129        \n",
       "2 Norra Östersjön Tekniska förvaltningen, Örebro kommun    212000-1967        \n",
       "3 Södra Östersjön Hässleholm Miljö AB                      556555-0349        \n",
       "4 Bottenviken     BillerudKorsnäs Sweden AB Karlsborg Bruk 556876-2974        \n",
       "5 Norra Östersjön BillerudKorsnäs Rockhammar AB            556761-2436        \n",
       "6 Norra Östersjön BillerudKorsnäs Skog & Industri AB       556023-8338        \n",
       "  Fastighetsbeteckning Tillsynsmyndighet              \n",
       "1 SNEDEN S:1           Enköpings kommun               \n",
       "2 ATTERSTA 7:8         Örebro kommun                  \n",
       "3 HÄSSLEHOLM 87:10     Hässleholms kommun             \n",
       "4 Karlsborg 3:1        Länsstyrelsen i Norrbottens län\n",
       "5 ROCKHAMMAR 1:3       Länsstyrelsen i Örebro län     \n",
       "6 FRÖVI 1:46           Länsstyrelsen i Örebro län     \n",
       "  Miljöledningssystem                 År   Ämne Utsläpp till luft (kg) Metod\n",
       "1 ISO 14001                           2018 CH4   202000                C    \n",
       "2 Miljödiplomering (certifierad 2018) 2018 CH4  1446190                C    \n",
       "3 NA                                  2018 CH4      175                M    \n",
       "4 ISO 14001                           2018 CH4    18093                C    \n",
       "5 ISO 14001:2004                      2018 CH4      835                C    \n",
       "6 ISO 14001:2004                      2018 CH4    20949                C    \n",
       "  Summa utsläpp till luft för länet under året\n",
       "1  220200                                     \n",
       "2 1467974                                     \n",
       "3  893232                                     \n",
       "4   72589                                     \n",
       "5 1467974                                     \n",
       "6 1467974                                     \n",
       "  Summa utsläpp till vatten för länet under året\n",
       "1 0                                             \n",
       "2 0                                             \n",
       "3 0                                             \n",
       "4 0                                             \n",
       "5 0                                             \n",
       "6 0                                             \n",
       "  Summa utsläpp till reningsverk för länet under året\n",
       "1 0                                                  \n",
       "2 0                                                  \n",
       "3 0                                                  \n",
       "4 0                                                  \n",
       "5 0                                                  \n",
       "6 0                                                  \n",
       "  Summa alla utsläpp till luft under året\n",
       "1 12152750                               \n",
       "2 12152750                               \n",
       "3 12152750                               \n",
       "4 12152750                               \n",
       "5 12152750                               \n",
       "6 12152750                               "
      ]
     },
     "metadata": {},
     "output_type": "display_data"
    }
   ],
   "source": [
    "head(raw_CH4)"
   ]
  },
  {
   "cell_type": "markdown",
   "metadata": {},
   "source": [
    "**Kombinera till ett dataset. Välj ut relevanta kolumner.**"
   ]
  },
  {
   "cell_type": "code",
   "execution_count": 44,
   "metadata": {},
   "outputs": [],
   "source": [
    "CH4 <- raw_CH4 %>% \n",
    "  rename(CH4=`Utsläpp till luft (kg)`) %>% \n",
    "  select(Län, Kommun, Anläggning, Fastighetsbeteckning, Organisationsnummer, År, CH4)\n",
    "\n",
    "CO2 <- raw_CO2fossilt %>% \n",
    "  rename(CO2=`Utsläpp till luft (kg)`) %>% \n",
    "  select(Län, Kommun, Anläggning, Fastighetsbeteckning, Organisationsnummer, År, CO2)\n",
    "\n",
    "N2O <- raw_N2O %>% \n",
    "  rename(N2O=`Utsläpp till luft (kg)`) %>% \n",
    "  select(Län, Kommun, Anläggning, Fastighetsbeteckning, Organisationsnummer, År, N2O)\n",
    "\n",
    "df <- full_join(CH4, CO2, by=c(\"Län\", \"Kommun\", \"Anläggning\", \"Fastighetsbeteckning\", \"Organisationsnummer\", \"År\"))\n",
    "df <- full_join(df, N2O, by=c(\"Län\", \"Kommun\", \"Anläggning\", \"Fastighetsbeteckning\", \"Organisationsnummer\", \"År\"))"
   ]
  },
  {
   "cell_type": "code",
   "execution_count": 45,
   "metadata": {},
   "outputs": [
    {
     "data": {
      "text/html": [
       "<table>\n",
       "<caption>A tibble: 6 × 9</caption>\n",
       "<thead>\n",
       "\t<tr><th scope=col>Län</th><th scope=col>Kommun</th><th scope=col>Anläggning</th><th scope=col>Fastighetsbeteckning</th><th scope=col>Organisationsnummer</th><th scope=col>År</th><th scope=col>CH4</th><th scope=col>CO2</th><th scope=col>N2O</th></tr>\n",
       "\t<tr><th scope=col>&lt;chr&gt;</th><th scope=col>&lt;chr&gt;</th><th scope=col>&lt;chr&gt;</th><th scope=col>&lt;chr&gt;</th><th scope=col>&lt;chr&gt;</th><th scope=col>&lt;dbl&gt;</th><th scope=col>&lt;dbl&gt;</th><th scope=col>&lt;dbl&gt;</th><th scope=col>&lt;dbl&gt;</th></tr>\n",
       "</thead>\n",
       "<tbody>\n",
       "\t<tr><td>Uppsala län    </td><td>Enköping  </td><td>Annelunds Avfallsupplag                  </td><td>SNEDEN S:1      </td><td>222000-3129</td><td>2018</td><td> 202000</td><td>      NA</td><td>   NA</td></tr>\n",
       "\t<tr><td>Örebro län     </td><td>Örebro    </td><td>Atleverket                               </td><td>ATTERSTA 7:8    </td><td>212000-1967</td><td>2018</td><td>1446190</td><td>      NA</td><td>   NA</td></tr>\n",
       "\t<tr><td>Skåne län      </td><td>Hässleholm</td><td>Beleverket i Hässleholm                  </td><td>HÄSSLEHOLM 87:10</td><td>556555-0349</td><td>2018</td><td>    175</td><td>20487000</td><td>  562</td></tr>\n",
       "\t<tr><td>Norrbottens län</td><td>Kalix     </td><td>BillerudKorsnäs Karlsborgs AB            </td><td>Karlsborg 3:1   </td><td>556876-2974</td><td>2018</td><td>  18093</td><td> 7298000</td><td>16589</td></tr>\n",
       "\t<tr><td>Örebro län     </td><td>Lindesberg</td><td>BillerudKorsnäs Rockhammar AB            </td><td>ROCKHAMMAR 1:3  </td><td>556761-2436</td><td>2018</td><td>    835</td><td> 2326250</td><td>  835</td></tr>\n",
       "\t<tr><td><span style=white-space:pre-wrap>Örebro län     </span></td><td>Lindesberg</td><td>BillerudKorsnäs Skog &amp; Industri AB, Frövi</td><td><span style=white-space:pre-wrap>FRÖVI 1:46      </span></td><td>556023-8338</td><td>2018</td><td><span style=white-space:pre-wrap>  20949</span></td><td>15947492</td><td>10778</td></tr>\n",
       "</tbody>\n",
       "</table>\n"
      ],
      "text/latex": [
       "A tibble: 6 × 9\n",
       "\\begin{tabular}{lllllllll}\n",
       " Län & Kommun & Anläggning & Fastighetsbeteckning & Organisationsnummer & År & CH4 & CO2 & N2O\\\\\n",
       " <chr> & <chr> & <chr> & <chr> & <chr> & <dbl> & <dbl> & <dbl> & <dbl>\\\\\n",
       "\\hline\n",
       "\t Uppsala län     & Enköping   & Annelunds Avfallsupplag                   & SNEDEN S:1       & 222000-3129 & 2018 &  202000 &       NA &    NA\\\\\n",
       "\t Örebro län      & Örebro     & Atleverket                                & ATTERSTA 7:8     & 212000-1967 & 2018 & 1446190 &       NA &    NA\\\\\n",
       "\t Skåne län       & Hässleholm & Beleverket i Hässleholm                   & HÄSSLEHOLM 87:10 & 556555-0349 & 2018 &     175 & 20487000 &   562\\\\\n",
       "\t Norrbottens län & Kalix      & BillerudKorsnäs Karlsborgs AB             & Karlsborg 3:1    & 556876-2974 & 2018 &   18093 &  7298000 & 16589\\\\\n",
       "\t Örebro län      & Lindesberg & BillerudKorsnäs Rockhammar AB             & ROCKHAMMAR 1:3   & 556761-2436 & 2018 &     835 &  2326250 &   835\\\\\n",
       "\t Örebro län      & Lindesberg & BillerudKorsnäs Skog \\& Industri AB, Frövi & FRÖVI 1:46       & 556023-8338 & 2018 &   20949 & 15947492 & 10778\\\\\n",
       "\\end{tabular}\n"
      ],
      "text/markdown": [
       "\n",
       "A tibble: 6 × 9\n",
       "\n",
       "| Län &lt;chr&gt; | Kommun &lt;chr&gt; | Anläggning &lt;chr&gt; | Fastighetsbeteckning &lt;chr&gt; | Organisationsnummer &lt;chr&gt; | År &lt;dbl&gt; | CH4 &lt;dbl&gt; | CO2 &lt;dbl&gt; | N2O &lt;dbl&gt; |\n",
       "|---|---|---|---|---|---|---|---|---|\n",
       "| Uppsala län     | Enköping   | Annelunds Avfallsupplag                   | SNEDEN S:1       | 222000-3129 | 2018 |  202000 |       NA |    NA |\n",
       "| Örebro län      | Örebro     | Atleverket                                | ATTERSTA 7:8     | 212000-1967 | 2018 | 1446190 |       NA |    NA |\n",
       "| Skåne län       | Hässleholm | Beleverket i Hässleholm                   | HÄSSLEHOLM 87:10 | 556555-0349 | 2018 |     175 | 20487000 |   562 |\n",
       "| Norrbottens län | Kalix      | BillerudKorsnäs Karlsborgs AB             | Karlsborg 3:1    | 556876-2974 | 2018 |   18093 |  7298000 | 16589 |\n",
       "| Örebro län      | Lindesberg | BillerudKorsnäs Rockhammar AB             | ROCKHAMMAR 1:3   | 556761-2436 | 2018 |     835 |  2326250 |   835 |\n",
       "| Örebro län      | Lindesberg | BillerudKorsnäs Skog &amp; Industri AB, Frövi | FRÖVI 1:46       | 556023-8338 | 2018 |   20949 | 15947492 | 10778 |\n",
       "\n"
      ],
      "text/plain": [
       "  Län             Kommun     Anläggning                               \n",
       "1 Uppsala län     Enköping   Annelunds Avfallsupplag                  \n",
       "2 Örebro län      Örebro     Atleverket                               \n",
       "3 Skåne län       Hässleholm Beleverket i Hässleholm                  \n",
       "4 Norrbottens län Kalix      BillerudKorsnäs Karlsborgs AB            \n",
       "5 Örebro län      Lindesberg BillerudKorsnäs Rockhammar AB            \n",
       "6 Örebro län      Lindesberg BillerudKorsnäs Skog & Industri AB, Frövi\n",
       "  Fastighetsbeteckning Organisationsnummer År   CH4     CO2      N2O  \n",
       "1 SNEDEN S:1           222000-3129         2018  202000       NA    NA\n",
       "2 ATTERSTA 7:8         212000-1967         2018 1446190       NA    NA\n",
       "3 HÄSSLEHOLM 87:10     556555-0349         2018     175 20487000   562\n",
       "4 Karlsborg 3:1        556876-2974         2018   18093  7298000 16589\n",
       "5 ROCKHAMMAR 1:3       556761-2436         2018     835  2326250   835\n",
       "6 FRÖVI 1:46           556023-8338         2018   20949 15947492 10778"
      ]
     },
     "metadata": {},
     "output_type": "display_data"
    }
   ],
   "source": [
    "head(df)"
   ]
  },
  {
   "cell_type": "markdown",
   "metadata": {},
   "source": [
    "**Städa anläggningsnamn.**\n",
    "\n",
    "En hel del företagsnamn är inte exakt demsamma från år till år. I en del fall har företaget bytt namn, men i andra fall är det skrivfel eller bara ett extra mellanslag i namnet. För att kunna göra en sammanställning i R behöver vi städa lite."
   ]
  },
  {
   "cell_type": "code",
   "execution_count": 46,
   "metadata": {},
   "outputs": [],
   "source": [
    "df$Anläggning[df$Anläggning==\"Johannes Biokraftvärmeverk\" |\n",
    "                df$Anläggning==\"Johannes biovärmeverk\"|\n",
    "                df$Anläggning==\"Johannes Biovärmeverk\" | \n",
    "                df$Anläggning==\"Johannes kraftvärmeverk\" ] <- \"Johannes Kraftvärmeverk\"\n",
    "df$Anläggning[df$Anläggning==\"DÅVA KRAFTVÄRMEVERK\" ] <- \"Dåva kraftvärmevärk\"\n",
    "df$Anläggning[df$Anläggning==\"AB Nynäs petroleum\" |\n",
    "                df$Anläggning==\"Nynas AB, Raffinaderiet i Göteborg\"] <- \"Nynas AB\"\n",
    "df$Anläggning[df$Anläggning==\"SOFIELUNDS ÅTERVINNINGSANLÄGGNING\"] <- \"SOFIELUNDS ÅTERVINNINGSANLÄGGN\"\n",
    "df$Anläggning[df$Anläggning==\"Granskärs Kraftvärmeverk\"] <- \"Granskärs kraftvärmeverk\"\n",
    "df$Anläggning[df$Anläggning==\"Avfallsförbränningsanläggn\"] <- \"Boländeranläggningarna, Avfallsförbränningsanläggn\"\n",
    "df$Anläggning[df$Anläggning==\"HÖGBYTORPSAVFALLSANLÄGGNING\"] <- \"HÖGBYTORPS AVFALLSANLÄGGNING\"\n",
    "df$Anläggning[df$Anläggning==\"Shell Raffinaderi AB\" | \n",
    "                df$Anläggning==\"St1 Refinery  AB\"] <- \"St1 Refinery AB\"\n",
    "df$Anläggning[df$Anläggning==\"Kronogårdens Värmeverk\"] <- \"Värmecentral Kronogården\"\n",
    "df$Anläggning[df$Anläggning==\"Katrineholm Energi AB, PC Väst\"] <- \"Kraftvärmeverket i Katrineholm\"\n",
    "df$Anläggning[df$Anläggning==\"Norsaverkets avfallsförbränningsanläggning\"] <- \"Norsaverkets avfallsförbrännin\"\n",
    "df$Anläggning[df$Anläggning==\"M-real Sverige AB, Husums fabr\"|\n",
    "                df$Anläggning==\"M-real Sverige AB, Husums fabrik\"] <- \"Metsä Board Sverige AB, Husums fabr\"\n",
    "df$Anläggning[df$Anläggning==\"NSR återvinningsanläggning Helsingborg\"] <- \"NSR återvinningsanläggning Hel\"\n",
    "df$Anläggning[df$Anläggning==\"Fiskeby Bruk\"] <- \"Fiskeby bruk\"\n",
    "df$Anläggning[df$Anläggning==\"Avfallskraftvärmeverket Torsvik\"|\n",
    "                df$Anläggning==\"Kraftvärmeverket Torsvik\"] <- \"Kraftvärmeverket Torsvik, KVVT1 (avfall) och KVVT2 (flis)\"\n",
    "df$Anläggning[df$Anläggning==\"Korsnäs AB, Frövi\"|\n",
    "                df$Anläggning==\"Korsnäs Frövi AB\"] <- \"BillerudKorsnäs Skog & Industri AB, Frövi\"\n",
    "df$Anläggning[df$Anläggning==\"Stallbacka Kraftstation\"|\n",
    "                df$Anläggning==\"Stallbacka Kraftstation Block 1 & 2\"] <- \"Stallbacka Kraftstation Block\"\n",
    "df$Anläggning[df$Anläggning==\"Lextorps Värmeverk\"] <- \"Värmecentral Lextorp\"\n",
    "df$Anläggning[df$Anläggning==\"CELANESE EMULSIONS NORDEN AB\"] <- \"CELANESE Production Sweden AB\"\n",
    "df$Anläggning[df$Anläggning==\"Iggesund Paperboard AB, Iggesu\"|\n",
    "                df$Anläggning==\"Iggesund Paperboard AB, Iggesund Bruk\"] <- \"Iggesunds Bruk\"\n",
    "df$Anläggning[df$Anläggning==\"SMA Svenska Mineral AB, RÄTTVIKS KALKVERK\"] <- \"RÄTTVIKS KALKVERK\"\n",
    "df$Anläggning[df$Anläggning==\"HEDENSBYNS KRAFTVÄRMEVERK\"] <- \"Hedensbyns kraftvärmeverk\"\n",
    "df$Anläggning[df$Anläggning==\"E.ON Värmekraft Sverige AB, Halmstad\"|\n",
    "                df$Anläggning==\"E.ON Värmekraft Sverige AB, Halmstadsverket\"|\n",
    "                df$Anläggning==\"Sydkraft Thermal Power AB, Halmstadsverket\"|\n",
    "                df$Anläggning==\"E.ON Värmekraft Sverige AB, Halmstadverket\"] <- \"Halmstadsverket\"\n",
    "df$Anläggning[df$Anläggning==\"Rödjorna - avfallsupplag\"|\n",
    "                df$Anläggning==\"Rödjorna - återvinningsanläggning\"|\n",
    "                df$Anläggning==\"Rödjorna, SUEZ Recycling AB\"] <- \"SUEZ Recycling AB, Rödjorna, Härlingstorp 4:1 och 5:1\"\n",
    "df$Anläggning[df$Anläggning==\"SSAB EMEA i Borlänge\"|\n",
    "                df$Anläggning==\"SSAB TUNNPLÅT AB\"|\n",
    "                df$Anläggning==\"SSAB Tunnplåt i Borlänge\"] <- \"SSAB EMEA AB\"\n",
    "df$Anläggning[df$Anläggning==\"AB Sandvik Materials Technolog\"|\n",
    "                df$Anläggning==\"AB Sandvik Materials Technology\"] <- \"Sandvik AB\"\n",
    "df$Anläggning[df$Anläggning==\"NYNAS AB, Raffinaderiet i Nynäshamn\"] <- \"NYNAS AB, Oljeraffinaderiet i Nynäshamn\"\n",
    "df$Anläggning[df$Anläggning==\"IGELSTAVERKET\"] <- \"Igelsta värmeverk\"\n",
    "df$Anläggning[df$Anläggning==\"Billerud Karlsborgs AB\"] <- \"BillerudKorsnäs Karlsborgs AB\"\n",
    "df$Anläggning[df$Anläggning==\"KOVIKS ÅTERVINNINGSANLÄGGNING\"] <- \"KOVIKS ÅTERVINNINGSANLÄGGNING, SUEZ Recycling AB\"\n",
    "df$Anläggning[df$Anläggning==\"INEOS NOVA SWEDEN AB\"] <- \"STYROLUTION SWEDEN AB\"\n",
    "df$Anläggning[df$Anläggning==\"Ortvikens pappersbruk\"] <- \"SCA Ortviken\"\n",
    "df$Anläggning[df$Anläggning==\"Sundsvall Energi AB, Korstaver\"|\n",
    "                df$Anläggning==\"Sundsvall Energi AB, Korstaverket\"] <- \"Sundsvall Energi AB, Korstaverk\"\n",
    "df$Anläggning[df$Anläggning==\"Kraftvärmeverket & Hetvattencentralen Vattumannen\"] <- \"Värmeverket Vattumannen\"\n",
    "df$Anläggning[df$Anläggning==\"STORA ENSO KVARNSVEDEN AB\"] <- \"Stora Enso Paper AB, Kvarnsveden Mill\"\n",
    "df$Anläggning[df$Anläggning==\"Ragn-Sells Heljestorp AB\"] <- \"Ragn-Sells Avfallsbehandling AB\"\n",
    "df$Anläggning[df$Anläggning==\"Karlshamn Kraft AB\"] <- \"Karlshamnsverket\"\n",
    "df$Anläggning[df$Anläggning==\"Linneberga avfallsupplag\"] <- \"Linneberga avfallsanläggning\"\n",
    "df$Anläggning[df$Anläggning==\"Billerud Skärblacka AB\"] <- \"BillerudKorsnäs Sweden AB Skärblacka Bruk\"\n",
    "df$Anläggning[df$Anläggning==\"AMCOR FLEXIBLES LUND AB\"|\n",
    "                df$Anläggning==\"FLEXTRUS  AB\"] <- \"FLEXTRUS AB\"\n",
    "df$Anläggning[df$Anläggning==\"SKOGSBACKA KRAFTVÄRMEVERK\"] <- \"Skogsbacka kraftvärmeverk\"\n",
    "df$Anläggning[df$Anläggning==\"Kalkproduktion AB\"] <- \"Kalkproduktion Storugns AB\"\n",
    "df$Anläggning[df$Anläggning==\"Lövängsverket (f d Kärnsjukhus\"] <- \"Lövängsverket (f d Kärnsjukhus)\"\n",
    "df$Anläggning[df$Anläggning==\"Pappersbruket i Kisa\"] <- \"Sofidel Sweden AB\"\n",
    "df$Anläggning[df$Anläggning==\"Sundsvall Energi AB, Nackstave\"] <- \"Sundsvall Energi AB, Nackstaverket\"\n",
    "df$Anläggning[df$Anläggning==\"Ekokem AB, Norrtorp\"] <- \"Fortum Waste Solutions AB, Norrtorp\"\n",
    "df$Anläggning[df$Anläggning==\"STORA ENSO NYMÖLLA AB\"] <- \"STORA ENSO PAPER AB\"\n",
    "df$Anläggning[df$Anläggning==\"SCA Packaging Obbola AB\"] <- \"SCA Obbola AB\"\n",
    "df$Anläggning[df$Anläggning==\"HÖGDALA AVFALLSANLÄGGNING\"] <- \"HÖGDALA AVFALLSANLÄGGNING, SUEZ Recycling AB\"\n",
    "df$Anläggning[df$Anläggning==\"AarhusKarlshamn Sweden AB\"] <- \"AAK Sweden AB\"\n",
    "df$Anläggning[df$Anläggning==\"Munksjö Aspa Bruk AB\"] <- \"Ahlstrom-Munksjö Aspa Bruk AB\"\n",
    "df$Anläggning[df$Anläggning==\"Eka Chemicals AB, Albyfabriker\"|\n",
    "                df$Anläggning==\"Eka Chemicals AB, Albyfabrikerna\"] <- \"Akzo Nobel Pulp and Performance, Albyfabriker\"\n",
    "df$Anläggning[df$Anläggning==\"Perstorp Specialty Chemicals AB, Di-TMP-fabriken\"] <- \"Di-TMP-fabriken\"\n",
    "df$Anläggning[df$Anläggning==\"Perstorp Specialty Chemicals AB, Formalinfabriken\"] <- \"Formalinfabriken\"\n",
    "df$Anläggning[df$Anläggning==\"Perstorp Specialty Chemicals AB, Myrsyralinjen\"] <- \"Myrsyralinjen\"\n",
    "df$Anläggning[df$Anläggning==\"Perstorp Specialty Chemicals AB, Neo-fabriken\"] <- \"Neo-fabriken\"\n",
    "df$Anläggning[df$Anläggning==\"Perstorp Specialty Chemicals AB, Pentafabriken\"] <- \"Pentafabriken\"\n",
    "df$Anläggning[df$Anläggning==\"Perstorp Specialty Chemicals AB, TMP-fabriken\"] <- \"TMP-fabriken\"\n",
    "df$Anläggning[df$Anläggning==\"Perstorp Specialty Chemicals AB, Ångcentralen\"] <- \"Ångcentralen\"\n",
    "df$Anläggning[df$Anläggning==\"RAYTOR COMPOUNDS AB\"|\n",
    "                df$Anläggning==\"Chemiplastica AB - f d RAYTOR COMPOUNDS AB\"|\n",
    "                df$Anläggning==\"CHEMIPLASTICA AB\"] <- \"BI-QEM AB\"\n",
    "df$Anläggning[df$Anläggning==\"Perstorp Specialty Chemicals AB, Metalloxidfabrik\"|\n",
    "                df$Anläggning==\"Formox AB, Metalloxidfabrik\"] <- \"FORMOX AB\"\n",
    "df$Anläggning[df$Anläggning==\"Chemiplastica Resins AB\"] <- \"BI-QEM Resins AB\"\n",
    "df$Anläggning[df$Anläggning==\"KVV-Åkerslund\"] <- \"Åkerslund\"\n",
    "df$Anläggning[df$Anläggning==\"Styron Sverige AB\"] <- \"Trinseo Sverige AB\"\n",
    "df$Anläggning[df$Anläggning==\"Rockhammars Bruk AB\"|\n",
    "                df$Anläggning==\"Korsnäs Rockhammar AB\"] <- \"BillerudKorsnäs Rockhammar AB\"\n",
    "df$Anläggning[df$Anläggning==\"Ryaverket\"] <- \"Gryaab AB Ryaverket\"\n",
    "df$Anläggning[df$Anläggning==\"Boliden Mineral AB - Aitikgruv\"] <- \"Boliden Mineral AB - Aitikgruvan\"\n",
    "df$Anläggning[df$Anläggning==\"Sysavs avfallsförbränningsanlä\"] <- \"Sysavs avfallsförbränningsanläggning\"\n",
    "df$Anläggning[df$Anläggning==\"RÖNNSKÄRSVERKEN\"] <- \"Rönnskärsverken\"\n",
    "df$Anläggning[df$Anläggning==\"Heden kraftvärmeverk (se 1780-1118)\"] <- \"Heden kraftvärmeverk\"\n",
    "df$Anläggning[df$Anläggning==\"INEOS Sverige\"|\n",
    "                df$Anläggning==\"INEOS Sverige AB\"] <- \"Inovyn Sverige AB\"\n",
    "df$Anläggning[df$Anläggning==\"UTANSJÖ BRUK AB\"] <- \"Utansjö Bruk AB\"\n",
    "df$Anläggning[df$Anläggning==\"SSAB ÉMEA AB - Oxelösund\"|\n",
    "                df$Anläggning==\"SSAB Oxelösund AB\"] <- \"SSAB EMEA AB Oxelösund\"\n",
    "df$Anläggning[df$Anläggning==\"Ahlstrom Ställdalen AB\"] <- \"Ahlstrom-Munksjö Ställdalen AB\"\n",
    "df$Anläggning[df$Anläggning==\"Procordia Food AB Eslöv\"] <- \"Orkla Foods Sverige AB\"\n",
    "df$Anläggning[df$Anläggning==\"Höganäs Sverige AB\"] <- \"Höganäs Sweden AB\"\n",
    "df$Anläggning[df$Anläggning==\"LKAB - Svappavaaragruvan\"] <- \"LKAB - Svappavaaragruvan Leveäniemi\"\n",
    "df$Anläggning[df$Anläggning==\"SSAB Tunnplåt AB\"] <- \"SSAB EMEA AB i Luleå\"\n",
    "df$Anläggning[df$Anläggning==\"Västermalmsverket / Falu Kraft AB\"] <- \"Västermalmsverket / Falu Energi & Vatten AB\"\n",
    "df$Anläggning[df$Anläggning==\"Preemraff Göteborg\"|\n",
    "                df$Anläggning==\"Preem Petroleum AB Preemraff Göteborg\"|\n",
    "                df$Anläggning==\"Preem AB Preemraff Göteborg\"|\n",
    "                df$Anläggning==\"Preem AB (publ), Preemraff Göteborg\"] <- \"Preem AB Preemraff Göteborg\"\n",
    "df$Anläggning[df$Anläggning==\"Värmeverket Södra Vakten 17\"] <- \"Värmeverket Södra Vakten 17/18\"\n",
    "df$Anläggning[df$Anläggning==\"GENETA PANNCENTRAL\"] <- \"Geneta panncentral\"\n",
    "df$Anläggning[df$Anläggning==\"VANKIVA AVFALLSANLÄGGNING\"|\n",
    "                df$Anläggning==\"Hässleholms Kretsloppscenter, HKC\"] <- \"Hässleholms Kretsloppscenter\"\n",
    "df$Anläggning[df$Anläggning==\"Visby Slakteri\"|\n",
    "                df$Anläggning==\"Scan AB Visby\"|\n",
    "                df$Anläggning==\"Scan AB - Visby\"|\n",
    "                df$Anläggning==\"Gotlands Slagtreri AB\"] <- \"Gotlands Slagteri AB\"\n",
    "df$Anläggning[df$Anläggning==\"Avfallskraftvärmeverket Kristi\"|\n",
    "                df$Anläggning==\"Avfallskraftvärmeverket Kristinehed\"|\n",
    "                df$Anläggning==\"Avfallsvärmeverket\"] <- \"Kristinehedsverket\"\n",
    "df$Anläggning[df$Anläggning==\"Timboholm, Skövde Värmeverk\"] <- \"Timboholm, Skövde Värmeverk, Block 3\"\n",
    "df$Anläggning[df$Anläggning==\"Stora Enso Hylte AB\"] <- \"Stora Enso Paper AB\"\n",
    "df$Anläggning[df$Anläggning==\"E ON Värme Sverige AB, Åbyverket\"|\n",
    "                df$Anläggning==\"E.ON Värme Sverige AB, Åbyverk\"] <- \"E.ON Värme Sverige AB, Åbyverket\"\n",
    "df$Anläggning[df$Anläggning==\"ABB AB, Plast\"] <- \"ABB AB, Composite\"\n",
    "df$Anläggning[df$Anläggning==\"Kraftvärmeverket Övik Energi A\"] <- \"Kraftvärmeverket Övik Energi AB\"\n",
    "df$Anläggning[df$Anläggning==\"SCA Östrand\"|\n",
    "                df$Anläggning==\"Östrands massafabrik\"] <- \"SCA Östrands massafabrik\""
   ]
  },
  {
   "cell_type": "markdown",
   "metadata": {},
   "source": [
    "**Räkna om till koldioxidekvivalenter och summera per anläggning.**\n",
    "\n",
    "Utsläppen av metan och dikväveoxid räknas om till koldioxidekvivalenter genom att multiplicera med omräkningsvärde 25 för metan och 298 för dikväveoxid. Här går det att läsa mer om omräkningsvärdena: https://www.naturvardsverket.se/Stod-i-miljoarbetet/Vagledningar/Luft-och-klimat/Berakna-dina-klimatutslapp/Sammanstall-totala-utslapp-av-vaxthusgaser-i-koldioxidekvivalenter/\n",
    "\n",
    "Från början var tanken att inkludera även fluorerade kolväten (HFC), perfluorkolväten (PFC) och svavelhexafluorid (SF6), men det gick inte att hitta omräkningsvärden för hur ämnena redovisas i utsläppsregistret. Därför valde vi att fokusera på metan (CH4), dikväveoxid (N2O) och fossilt koldioxid (CO2), som är de tre största växthusgaserna."
   ]
  },
  {
   "cell_type": "code",
   "execution_count": 47,
   "metadata": {},
   "outputs": [],
   "source": [
    "df_ekv <- df %>% rowwise() %>% \n",
    "  mutate(Koldioxidekvivalenter=sum((CH4*25/1000), (CO2/1000), (N2O*298/1000), na.rm=TRUE)) %>% \n",
    "  group_by(Län, Kommun, Anläggning, Fastighetsbeteckning, Organisationsnummer, År) %>% \n",
    "  summarize(\"Utsläpp (ton CO2-ekv)\"=sum(Koldioxidekvivalenter, na.rm=TRUE))"
   ]
  },
  {
   "cell_type": "code",
   "execution_count": 48,
   "metadata": {},
   "outputs": [],
   "source": [
    "anlaggning_perar <- df_ekv  %>% spread(År, `Utsläpp (ton CO2-ekv)`)"
   ]
  },
  {
   "cell_type": "code",
   "execution_count": 49,
   "metadata": {},
   "outputs": [
    {
     "data": {
      "text/html": [
       "<table>\n",
       "<caption>A grouped_df: 6 × 17</caption>\n",
       "<thead>\n",
       "\t<tr><th scope=col>Län</th><th scope=col>Kommun</th><th scope=col>Anläggning</th><th scope=col>Fastighetsbeteckning</th><th scope=col>Organisationsnummer</th><th scope=col>2007</th><th scope=col>2008</th><th scope=col>2009</th><th scope=col>2010</th><th scope=col>2011</th><th scope=col>2012</th><th scope=col>2013</th><th scope=col>2014</th><th scope=col>2015</th><th scope=col>2016</th><th scope=col>2017</th><th scope=col>2018</th></tr>\n",
       "\t<tr><th scope=col>&lt;chr&gt;</th><th scope=col>&lt;chr&gt;</th><th scope=col>&lt;chr&gt;</th><th scope=col>&lt;chr&gt;</th><th scope=col>&lt;chr&gt;</th><th scope=col>&lt;dbl&gt;</th><th scope=col>&lt;dbl&gt;</th><th scope=col>&lt;dbl&gt;</th><th scope=col>&lt;dbl&gt;</th><th scope=col>&lt;dbl&gt;</th><th scope=col>&lt;dbl&gt;</th><th scope=col>&lt;dbl&gt;</th><th scope=col>&lt;dbl&gt;</th><th scope=col>&lt;dbl&gt;</th><th scope=col>&lt;dbl&gt;</th><th scope=col>&lt;dbl&gt;</th><th scope=col>&lt;dbl&gt;</th></tr>\n",
       "</thead>\n",
       "<tbody>\n",
       "\t<tr><td>Blekinge län</td><td>Karlshamn</td><td>AAK Sweden AB                 </td><td>OLJEFABRIKEN 2 (SOCKERBRUKET 19)             </td><td>556478-1796</td><td>     NA</td><td>     NA</td><td>  6227.00</td><td>  5709.00</td><td>  4885.0</td><td>  4679.00</td><td>  4579.00</td><td>  4366.00</td><td>  8088.00</td><td>  7375.00</td><td>  6394.792</td><td>  6091.179</td></tr>\n",
       "\t<tr><td>Blekinge län</td><td>Karlshamn</td><td>Gasturbin Karlshamn           </td><td>KÖLÖ 2                                       </td><td>556112-5666</td><td>     NA</td><td>     NA</td><td>       NA</td><td>       NA</td><td>      NA</td><td>       NA</td><td>       NA</td><td>       NA</td><td>       NA</td><td>       NA</td><td>   223.400</td><td>   250.492</td></tr>\n",
       "\t<tr><td>Blekinge län</td><td>Karlshamn</td><td>Karlshamnsverket              </td><td>KÖLÖ 1 (KARLSHAMN 8:18-20)                   </td><td>556112-5666</td><td>     NA</td><td>80224.0</td><td> 97417.00</td><td>152208.00</td><td> 20207.0</td><td> 26000.00</td><td>  7829.00</td><td>  1725.00</td><td>  2678.00</td><td>  8999.00</td><td>  4748.500</td><td>  5290.000</td></tr>\n",
       "\t<tr><td>Blekinge län</td><td>Karlshamn</td><td>Södra Cell Mörrum             </td><td>ELLEHOLM 35:1 (RÄVABYGGET 4:1)               </td><td>729500-3789</td><td>63915.6</td><td>72339.2</td><td> 62405.92</td><td> 76340.57</td><td> 72213.7</td><td> 73837.46</td><td> 63810.18</td><td> 35196.31</td><td> 34150.56</td><td> 22997.19</td><td> 15651.266</td><td> 41488.700</td></tr>\n",
       "\t<tr><td>Blekinge län</td><td>Ronneby  </td><td>Cascades Djupafors AB         </td><td>Häggatorp 2:24, 2:160 , 10:1 (Sänksjödal 1:1)</td><td>556344-8710</td><td> 1662.0</td><td> 1773.0</td><td>  2742.00</td><td>  3586.00</td><td>  2621.0</td><td>  1626.00</td><td>  1403.00</td><td>       NA</td><td>       NA</td><td>       NA</td><td>        NA</td><td>        NA</td></tr>\n",
       "\t<tr><td>Dalarnas län</td><td>Avesta   </td><td>Outokumpu Stainless AB, Avesta</td><td>AVESTA 5:1                                   </td><td>556001-8748</td><td>     NA</td><td>     NA</td><td>100892.00</td><td>113020.00</td><td>126131.0</td><td>111531.00</td><td>104745.00</td><td>105566.00</td><td>111826.00</td><td>129759.00</td><td>138972.000</td><td>134578.380</td></tr>\n",
       "</tbody>\n",
       "</table>\n"
      ],
      "text/latex": [
       "A grouped\\_df: 6 × 17\n",
       "\\begin{tabular}{lllllllllllllllll}\n",
       " Län & Kommun & Anläggning & Fastighetsbeteckning & Organisationsnummer & 2007 & 2008 & 2009 & 2010 & 2011 & 2012 & 2013 & 2014 & 2015 & 2016 & 2017 & 2018\\\\\n",
       " <chr> & <chr> & <chr> & <chr> & <chr> & <dbl> & <dbl> & <dbl> & <dbl> & <dbl> & <dbl> & <dbl> & <dbl> & <dbl> & <dbl> & <dbl> & <dbl>\\\\\n",
       "\\hline\n",
       "\t Blekinge län & Karlshamn & AAK Sweden AB                  & OLJEFABRIKEN 2 (SOCKERBRUKET 19)              & 556478-1796 &      NA &      NA &   6227.00 &   5709.00 &   4885.0 &   4679.00 &   4579.00 &   4366.00 &   8088.00 &   7375.00 &   6394.792 &   6091.179\\\\\n",
       "\t Blekinge län & Karlshamn & Gasturbin Karlshamn            & KÖLÖ 2                                        & 556112-5666 &      NA &      NA &        NA &        NA &       NA &        NA &        NA &        NA &        NA &        NA &    223.400 &    250.492\\\\\n",
       "\t Blekinge län & Karlshamn & Karlshamnsverket               & KÖLÖ 1 (KARLSHAMN 8:18-20)                    & 556112-5666 &      NA & 80224.0 &  97417.00 & 152208.00 &  20207.0 &  26000.00 &   7829.00 &   1725.00 &   2678.00 &   8999.00 &   4748.500 &   5290.000\\\\\n",
       "\t Blekinge län & Karlshamn & Södra Cell Mörrum              & ELLEHOLM 35:1 (RÄVABYGGET 4:1)                & 729500-3789 & 63915.6 & 72339.2 &  62405.92 &  76340.57 &  72213.7 &  73837.46 &  63810.18 &  35196.31 &  34150.56 &  22997.19 &  15651.266 &  41488.700\\\\\n",
       "\t Blekinge län & Ronneby   & Cascades Djupafors AB          & Häggatorp 2:24, 2:160 , 10:1 (Sänksjödal 1:1) & 556344-8710 &  1662.0 &  1773.0 &   2742.00 &   3586.00 &   2621.0 &   1626.00 &   1403.00 &        NA &        NA &        NA &         NA &         NA\\\\\n",
       "\t Dalarnas län & Avesta    & Outokumpu Stainless AB, Avesta & AVESTA 5:1                                    & 556001-8748 &      NA &      NA & 100892.00 & 113020.00 & 126131.0 & 111531.00 & 104745.00 & 105566.00 & 111826.00 & 129759.00 & 138972.000 & 134578.380\\\\\n",
       "\\end{tabular}\n"
      ],
      "text/markdown": [
       "\n",
       "A grouped_df: 6 × 17\n",
       "\n",
       "| Län &lt;chr&gt; | Kommun &lt;chr&gt; | Anläggning &lt;chr&gt; | Fastighetsbeteckning &lt;chr&gt; | Organisationsnummer &lt;chr&gt; | 2007 &lt;dbl&gt; | 2008 &lt;dbl&gt; | 2009 &lt;dbl&gt; | 2010 &lt;dbl&gt; | 2011 &lt;dbl&gt; | 2012 &lt;dbl&gt; | 2013 &lt;dbl&gt; | 2014 &lt;dbl&gt; | 2015 &lt;dbl&gt; | 2016 &lt;dbl&gt; | 2017 &lt;dbl&gt; | 2018 &lt;dbl&gt; |\n",
       "|---|---|---|---|---|---|---|---|---|---|---|---|---|---|---|---|---|\n",
       "| Blekinge län | Karlshamn | AAK Sweden AB                  | OLJEFABRIKEN 2 (SOCKERBRUKET 19)              | 556478-1796 |      NA |      NA |   6227.00 |   5709.00 |   4885.0 |   4679.00 |   4579.00 |   4366.00 |   8088.00 |   7375.00 |   6394.792 |   6091.179 |\n",
       "| Blekinge län | Karlshamn | Gasturbin Karlshamn            | KÖLÖ 2                                        | 556112-5666 |      NA |      NA |        NA |        NA |       NA |        NA |        NA |        NA |        NA |        NA |    223.400 |    250.492 |\n",
       "| Blekinge län | Karlshamn | Karlshamnsverket               | KÖLÖ 1 (KARLSHAMN 8:18-20)                    | 556112-5666 |      NA | 80224.0 |  97417.00 | 152208.00 |  20207.0 |  26000.00 |   7829.00 |   1725.00 |   2678.00 |   8999.00 |   4748.500 |   5290.000 |\n",
       "| Blekinge län | Karlshamn | Södra Cell Mörrum              | ELLEHOLM 35:1 (RÄVABYGGET 4:1)                | 729500-3789 | 63915.6 | 72339.2 |  62405.92 |  76340.57 |  72213.7 |  73837.46 |  63810.18 |  35196.31 |  34150.56 |  22997.19 |  15651.266 |  41488.700 |\n",
       "| Blekinge län | Ronneby   | Cascades Djupafors AB          | Häggatorp 2:24, 2:160 , 10:1 (Sänksjödal 1:1) | 556344-8710 |  1662.0 |  1773.0 |   2742.00 |   3586.00 |   2621.0 |   1626.00 |   1403.00 |        NA |        NA |        NA |         NA |         NA |\n",
       "| Dalarnas län | Avesta    | Outokumpu Stainless AB, Avesta | AVESTA 5:1                                    | 556001-8748 |      NA |      NA | 100892.00 | 113020.00 | 126131.0 | 111531.00 | 104745.00 | 105566.00 | 111826.00 | 129759.00 | 138972.000 | 134578.380 |\n",
       "\n"
      ],
      "text/plain": [
       "  Län          Kommun    Anläggning                    \n",
       "1 Blekinge län Karlshamn AAK Sweden AB                 \n",
       "2 Blekinge län Karlshamn Gasturbin Karlshamn           \n",
       "3 Blekinge län Karlshamn Karlshamnsverket              \n",
       "4 Blekinge län Karlshamn Södra Cell Mörrum             \n",
       "5 Blekinge län Ronneby   Cascades Djupafors AB         \n",
       "6 Dalarnas län Avesta    Outokumpu Stainless AB, Avesta\n",
       "  Fastighetsbeteckning                          Organisationsnummer 2007   \n",
       "1 OLJEFABRIKEN 2 (SOCKERBRUKET 19)              556478-1796              NA\n",
       "2 KÖLÖ 2                                        556112-5666              NA\n",
       "3 KÖLÖ 1 (KARLSHAMN 8:18-20)                    556112-5666              NA\n",
       "4 ELLEHOLM 35:1 (RÄVABYGGET 4:1)                729500-3789         63915.6\n",
       "5 Häggatorp 2:24, 2:160 , 10:1 (Sänksjödal 1:1) 556344-8710          1662.0\n",
       "6 AVESTA 5:1                                    556001-8748              NA\n",
       "  2008    2009      2010      2011     2012      2013      2014      2015     \n",
       "1      NA   6227.00   5709.00   4885.0   4679.00   4579.00   4366.00   8088.00\n",
       "2      NA        NA        NA       NA        NA        NA        NA        NA\n",
       "3 80224.0  97417.00 152208.00  20207.0  26000.00   7829.00   1725.00   2678.00\n",
       "4 72339.2  62405.92  76340.57  72213.7  73837.46  63810.18  35196.31  34150.56\n",
       "5  1773.0   2742.00   3586.00   2621.0   1626.00   1403.00        NA        NA\n",
       "6      NA 100892.00 113020.00 126131.0 111531.00 104745.00 105566.00 111826.00\n",
       "  2016      2017       2018      \n",
       "1   7375.00   6394.792   6091.179\n",
       "2        NA    223.400    250.492\n",
       "3   8999.00   4748.500   5290.000\n",
       "4  22997.19  15651.266  41488.700\n",
       "5        NA         NA         NA\n",
       "6 129759.00 138972.000 134578.380"
      ]
     },
     "metadata": {},
     "output_type": "display_data"
    }
   ],
   "source": [
    "head(anlaggning_perar)"
   ]
  },
  {
   "cell_type": "markdown",
   "metadata": {},
   "source": [
    "**Sortera anläggningarna länsvis och från högst till lägst utsläpp 2018.**"
   ]
  },
  {
   "cell_type": "code",
   "execution_count": 50,
   "metadata": {},
   "outputs": [],
   "source": [
    "topplista <- df_ekv %>% filter(År==2018) %>% \n",
    "  arrange(desc(`Utsläpp (ton CO2-ekv)`)) %>% \n",
    "  select(-År)\n",
    "\n",
    "lansvis <- arrange(topplista, Län, desc(`Utsläpp (ton CO2-ekv)`))"
   ]
  },
  {
   "cell_type": "markdown",
   "metadata": {},
   "source": [
    "I topplistan kan vi se vilka anläggningar i Sverige som har de största klimatpåverkande utsläppen."
   ]
  },
  {
   "cell_type": "code",
   "execution_count": 51,
   "metadata": {},
   "outputs": [
    {
     "data": {
      "text/html": [
       "<table>\n",
       "<caption>A grouped_df: 10 × 6</caption>\n",
       "<thead>\n",
       "\t<tr><th scope=col>Län</th><th scope=col>Kommun</th><th scope=col>Anläggning</th><th scope=col>Fastighetsbeteckning</th><th scope=col>Organisationsnummer</th><th scope=col>Utsläpp (ton CO2-ekv)</th></tr>\n",
       "\t<tr><th scope=col>&lt;chr&gt;</th><th scope=col>&lt;chr&gt;</th><th scope=col>&lt;chr&gt;</th><th scope=col>&lt;chr&gt;</th><th scope=col>&lt;chr&gt;</th><th scope=col>&lt;dbl&gt;</th></tr>\n",
       "</thead>\n",
       "<tbody>\n",
       "\t<tr><td>Norrbottens län     </td><td>Luleå      </td><td>Luleå kraftvärmeverk LUKAB  </td><td>Svartön 18:10                                                                                                     </td><td>556195-0576</td><td>2120995.6</td></tr>\n",
       "\t<tr><td>Västra Götalands län</td><td>Lysekil    </td><td>Preemraff, Lysekil          </td><td>SJÖBOL 2:1 (ASPEDALEN 2:9, SJÖBOL 2:5)                                                                            </td><td>556072-6977</td><td>1625082.0</td></tr>\n",
       "\t<tr><td>Gotlands län        </td><td>Gotland    </td><td>Cementa AB, Slitefabriken   </td><td>OTHEM FILE 1:13 (OTHEM KLINTS 1:10, OTHEM NÄRS 1:180, OTHEM YTINGS 1:29, OTHEM ÖSTERBY 1:108, OTHEM ÖSTERBY 1:214)</td><td>556013-5864</td><td>1533816.0</td></tr>\n",
       "\t<tr><td>Södermanlands län   </td><td>Oxelösund  </td><td>SSAB EMEA AB Oxelösund      </td><td>STORA HUMMELVIK 1:8 (ASPA 2:3, BRANNÄS 1:2, OXELÖ 7:37)                                                           </td><td>556313-7933</td><td>1462246.0</td></tr>\n",
       "\t<tr><td>Norrbottens län     </td><td>Luleå      </td><td>SSAB EMEA AB i Luleå        </td><td>Svartön 18:11 (Svartön 18:19, Svartöstaden 13:36)                                                                 </td><td>556313-7933</td><td>1058000.0</td></tr>\n",
       "\t<tr><td>Västra Götalands län</td><td>Stenungsund</td><td>Borealis Krackeranl.        </td><td>STENUNG 17:6                                                                                                      </td><td>556078-6633</td><td> 636536.0</td></tr>\n",
       "\t<tr><td>Västra Götalands län</td><td>Göteborg   </td><td>St1 Refinery AB             </td><td>BRÄCKE 42:1 (RÖDJAN 727:21, SYRHÅLA 765:193)                                                                      </td><td>556050-2378</td><td> 546914.0</td></tr>\n",
       "\t<tr><td>Västra Götalands län</td><td>Göteborg   </td><td>Preem  AB Preemraff Göteborg</td><td>SYRHÅLA 2:1 (ARENDAL 764:230, SYRHÅLA 2:2, SYRHÅLA 765:253)                                                       </td><td>556072-6977</td><td> 540900.0</td></tr>\n",
       "\t<tr><td>Stockholms län      </td><td>Stockholm  </td><td>VÄRTAVERKET                 </td><td>NIMROD 7                                                                                                          </td><td>556016-9095</td><td> 529438.4</td></tr>\n",
       "\t<tr><td>Norrbottens län     </td><td>Kiruna     </td><td>LKAB - Kirunagruvan         </td><td>Jukkasjärvi kronoöverloppsmark 1:1 (Kiruna 1:1, Ön 1:1)                                                           </td><td>556001-5835</td><td> 441284.0</td></tr>\n",
       "</tbody>\n",
       "</table>\n"
      ],
      "text/latex": [
       "A grouped\\_df: 10 × 6\n",
       "\\begin{tabular}{llllll}\n",
       " Län & Kommun & Anläggning & Fastighetsbeteckning & Organisationsnummer & Utsläpp (ton CO2-ekv)\\\\\n",
       " <chr> & <chr> & <chr> & <chr> & <chr> & <dbl>\\\\\n",
       "\\hline\n",
       "\t Norrbottens län      & Luleå       & Luleå kraftvärmeverk LUKAB   & Svartön 18:10                                                                                                      & 556195-0576 & 2120995.6\\\\\n",
       "\t Västra Götalands län & Lysekil     & Preemraff, Lysekil           & SJÖBOL 2:1 (ASPEDALEN 2:9, SJÖBOL 2:5)                                                                             & 556072-6977 & 1625082.0\\\\\n",
       "\t Gotlands län         & Gotland     & Cementa AB, Slitefabriken    & OTHEM FILE 1:13 (OTHEM KLINTS 1:10, OTHEM NÄRS 1:180, OTHEM YTINGS 1:29, OTHEM ÖSTERBY 1:108, OTHEM ÖSTERBY 1:214) & 556013-5864 & 1533816.0\\\\\n",
       "\t Södermanlands län    & Oxelösund   & SSAB EMEA AB Oxelösund       & STORA HUMMELVIK 1:8 (ASPA 2:3, BRANNÄS 1:2, OXELÖ 7:37)                                                            & 556313-7933 & 1462246.0\\\\\n",
       "\t Norrbottens län      & Luleå       & SSAB EMEA AB i Luleå         & Svartön 18:11 (Svartön 18:19, Svartöstaden 13:36)                                                                  & 556313-7933 & 1058000.0\\\\\n",
       "\t Västra Götalands län & Stenungsund & Borealis Krackeranl.         & STENUNG 17:6                                                                                                       & 556078-6633 &  636536.0\\\\\n",
       "\t Västra Götalands län & Göteborg    & St1 Refinery AB              & BRÄCKE 42:1 (RÖDJAN 727:21, SYRHÅLA 765:193)                                                                       & 556050-2378 &  546914.0\\\\\n",
       "\t Västra Götalands län & Göteborg    & Preem  AB Preemraff Göteborg & SYRHÅLA 2:1 (ARENDAL 764:230, SYRHÅLA 2:2, SYRHÅLA 765:253)                                                        & 556072-6977 &  540900.0\\\\\n",
       "\t Stockholms län       & Stockholm   & VÄRTAVERKET                  & NIMROD 7                                                                                                           & 556016-9095 &  529438.4\\\\\n",
       "\t Norrbottens län      & Kiruna      & LKAB - Kirunagruvan          & Jukkasjärvi kronoöverloppsmark 1:1 (Kiruna 1:1, Ön 1:1)                                                            & 556001-5835 &  441284.0\\\\\n",
       "\\end{tabular}\n"
      ],
      "text/markdown": [
       "\n",
       "A grouped_df: 10 × 6\n",
       "\n",
       "| Län &lt;chr&gt; | Kommun &lt;chr&gt; | Anläggning &lt;chr&gt; | Fastighetsbeteckning &lt;chr&gt; | Organisationsnummer &lt;chr&gt; | Utsläpp (ton CO2-ekv) &lt;dbl&gt; |\n",
       "|---|---|---|---|---|---|\n",
       "| Norrbottens län      | Luleå       | Luleå kraftvärmeverk LUKAB   | Svartön 18:10                                                                                                      | 556195-0576 | 2120995.6 |\n",
       "| Västra Götalands län | Lysekil     | Preemraff, Lysekil           | SJÖBOL 2:1 (ASPEDALEN 2:9, SJÖBOL 2:5)                                                                             | 556072-6977 | 1625082.0 |\n",
       "| Gotlands län         | Gotland     | Cementa AB, Slitefabriken    | OTHEM FILE 1:13 (OTHEM KLINTS 1:10, OTHEM NÄRS 1:180, OTHEM YTINGS 1:29, OTHEM ÖSTERBY 1:108, OTHEM ÖSTERBY 1:214) | 556013-5864 | 1533816.0 |\n",
       "| Södermanlands län    | Oxelösund   | SSAB EMEA AB Oxelösund       | STORA HUMMELVIK 1:8 (ASPA 2:3, BRANNÄS 1:2, OXELÖ 7:37)                                                            | 556313-7933 | 1462246.0 |\n",
       "| Norrbottens län      | Luleå       | SSAB EMEA AB i Luleå         | Svartön 18:11 (Svartön 18:19, Svartöstaden 13:36)                                                                  | 556313-7933 | 1058000.0 |\n",
       "| Västra Götalands län | Stenungsund | Borealis Krackeranl.         | STENUNG 17:6                                                                                                       | 556078-6633 |  636536.0 |\n",
       "| Västra Götalands län | Göteborg    | St1 Refinery AB              | BRÄCKE 42:1 (RÖDJAN 727:21, SYRHÅLA 765:193)                                                                       | 556050-2378 |  546914.0 |\n",
       "| Västra Götalands län | Göteborg    | Preem  AB Preemraff Göteborg | SYRHÅLA 2:1 (ARENDAL 764:230, SYRHÅLA 2:2, SYRHÅLA 765:253)                                                        | 556072-6977 |  540900.0 |\n",
       "| Stockholms län       | Stockholm   | VÄRTAVERKET                  | NIMROD 7                                                                                                           | 556016-9095 |  529438.4 |\n",
       "| Norrbottens län      | Kiruna      | LKAB - Kirunagruvan          | Jukkasjärvi kronoöverloppsmark 1:1 (Kiruna 1:1, Ön 1:1)                                                            | 556001-5835 |  441284.0 |\n",
       "\n"
      ],
      "text/plain": [
       "   Län                  Kommun      Anläggning                  \n",
       "1  Norrbottens län      Luleå       Luleå kraftvärmeverk LUKAB  \n",
       "2  Västra Götalands län Lysekil     Preemraff, Lysekil          \n",
       "3  Gotlands län         Gotland     Cementa AB, Slitefabriken   \n",
       "4  Södermanlands län    Oxelösund   SSAB EMEA AB Oxelösund      \n",
       "5  Norrbottens län      Luleå       SSAB EMEA AB i Luleå        \n",
       "6  Västra Götalands län Stenungsund Borealis Krackeranl.        \n",
       "7  Västra Götalands län Göteborg    St1 Refinery AB             \n",
       "8  Västra Götalands län Göteborg    Preem  AB Preemraff Göteborg\n",
       "9  Stockholms län       Stockholm   VÄRTAVERKET                 \n",
       "10 Norrbottens län      Kiruna      LKAB - Kirunagruvan         \n",
       "   Fastighetsbeteckning                                                                                              \n",
       "1  Svartön 18:10                                                                                                     \n",
       "2  SJÖBOL 2:1 (ASPEDALEN 2:9, SJÖBOL 2:5)                                                                            \n",
       "3  OTHEM FILE 1:13 (OTHEM KLINTS 1:10, OTHEM NÄRS 1:180, OTHEM YTINGS 1:29, OTHEM ÖSTERBY 1:108, OTHEM ÖSTERBY 1:214)\n",
       "4  STORA HUMMELVIK 1:8 (ASPA 2:3, BRANNÄS 1:2, OXELÖ 7:37)                                                           \n",
       "5  Svartön 18:11 (Svartön 18:19, Svartöstaden 13:36)                                                                 \n",
       "6  STENUNG 17:6                                                                                                      \n",
       "7  BRÄCKE 42:1 (RÖDJAN 727:21, SYRHÅLA 765:193)                                                                      \n",
       "8  SYRHÅLA 2:1 (ARENDAL 764:230, SYRHÅLA 2:2, SYRHÅLA 765:253)                                                       \n",
       "9  NIMROD 7                                                                                                          \n",
       "10 Jukkasjärvi kronoöverloppsmark 1:1 (Kiruna 1:1, Ön 1:1)                                                           \n",
       "   Organisationsnummer Utsläpp (ton CO2-ekv)\n",
       "1  556195-0576         2120995.6            \n",
       "2  556072-6977         1625082.0            \n",
       "3  556013-5864         1533816.0            \n",
       "4  556313-7933         1462246.0            \n",
       "5  556313-7933         1058000.0            \n",
       "6  556078-6633          636536.0            \n",
       "7  556050-2378          546914.0            \n",
       "8  556072-6977          540900.0            \n",
       "9  556016-9095          529438.4            \n",
       "10 556001-5835          441284.0            "
      ]
     },
     "metadata": {},
     "output_type": "display_data"
    }
   ],
   "source": [
    "head(topplista, 10)"
   ]
  },
  {
   "cell_type": "markdown",
   "metadata": {},
   "source": [
    "Sorterar vi datan länsvis och i storleksordning efter utsläpp, får vi också en topplista för varje län."
   ]
  },
  {
   "cell_type": "code",
   "execution_count": 52,
   "metadata": {},
   "outputs": [
    {
     "data": {
      "text/html": [
       "<table>\n",
       "<caption>A grouped_df: 6 × 6</caption>\n",
       "<thead>\n",
       "\t<tr><th scope=col>Län</th><th scope=col>Kommun</th><th scope=col>Anläggning</th><th scope=col>Fastighetsbeteckning</th><th scope=col>Organisationsnummer</th><th scope=col>Utsläpp (ton CO2-ekv)</th></tr>\n",
       "\t<tr><th scope=col>&lt;chr&gt;</th><th scope=col>&lt;chr&gt;</th><th scope=col>&lt;chr&gt;</th><th scope=col>&lt;chr&gt;</th><th scope=col>&lt;chr&gt;</th><th scope=col>&lt;dbl&gt;</th></tr>\n",
       "</thead>\n",
       "<tbody>\n",
       "\t<tr><td>Blekinge län</td><td>Karlshamn</td><td>Södra Cell Mörrum             </td><td>ELLEHOLM 35:1 (RÄVABYGGET 4:1)  </td><td>729500-3789</td><td> 41488.700</td></tr>\n",
       "\t<tr><td>Blekinge län</td><td>Karlshamn</td><td>AAK Sweden AB                 </td><td>OLJEFABRIKEN 2 (SOCKERBRUKET 19)</td><td>556478-1796</td><td>  6091.179</td></tr>\n",
       "\t<tr><td>Blekinge län</td><td>Karlshamn</td><td>Karlshamnsverket              </td><td>KÖLÖ 1 (KARLSHAMN 8:18-20)      </td><td>556112-5666</td><td>  5290.000</td></tr>\n",
       "\t<tr><td>Blekinge län</td><td>Karlshamn</td><td>Gasturbin Karlshamn           </td><td>KÖLÖ 2                          </td><td>556112-5666</td><td>   250.492</td></tr>\n",
       "\t<tr><td>Dalarnas län</td><td>Borlänge </td><td>SSAB EMEA AB                  </td><td>JÄRNVERKET 1                    </td><td>556313-7933</td><td>241000.000</td></tr>\n",
       "\t<tr><td>Dalarnas län</td><td>Avesta   </td><td>Outokumpu Stainless AB, Avesta</td><td>AVESTA 5:1                      </td><td>556001-8748</td><td>134578.380</td></tr>\n",
       "</tbody>\n",
       "</table>\n"
      ],
      "text/latex": [
       "A grouped\\_df: 6 × 6\n",
       "\\begin{tabular}{llllll}\n",
       " Län & Kommun & Anläggning & Fastighetsbeteckning & Organisationsnummer & Utsläpp (ton CO2-ekv)\\\\\n",
       " <chr> & <chr> & <chr> & <chr> & <chr> & <dbl>\\\\\n",
       "\\hline\n",
       "\t Blekinge län & Karlshamn & Södra Cell Mörrum              & ELLEHOLM 35:1 (RÄVABYGGET 4:1)   & 729500-3789 &  41488.700\\\\\n",
       "\t Blekinge län & Karlshamn & AAK Sweden AB                  & OLJEFABRIKEN 2 (SOCKERBRUKET 19) & 556478-1796 &   6091.179\\\\\n",
       "\t Blekinge län & Karlshamn & Karlshamnsverket               & KÖLÖ 1 (KARLSHAMN 8:18-20)       & 556112-5666 &   5290.000\\\\\n",
       "\t Blekinge län & Karlshamn & Gasturbin Karlshamn            & KÖLÖ 2                           & 556112-5666 &    250.492\\\\\n",
       "\t Dalarnas län & Borlänge  & SSAB EMEA AB                   & JÄRNVERKET 1                     & 556313-7933 & 241000.000\\\\\n",
       "\t Dalarnas län & Avesta    & Outokumpu Stainless AB, Avesta & AVESTA 5:1                       & 556001-8748 & 134578.380\\\\\n",
       "\\end{tabular}\n"
      ],
      "text/markdown": [
       "\n",
       "A grouped_df: 6 × 6\n",
       "\n",
       "| Län &lt;chr&gt; | Kommun &lt;chr&gt; | Anläggning &lt;chr&gt; | Fastighetsbeteckning &lt;chr&gt; | Organisationsnummer &lt;chr&gt; | Utsläpp (ton CO2-ekv) &lt;dbl&gt; |\n",
       "|---|---|---|---|---|---|\n",
       "| Blekinge län | Karlshamn | Södra Cell Mörrum              | ELLEHOLM 35:1 (RÄVABYGGET 4:1)   | 729500-3789 |  41488.700 |\n",
       "| Blekinge län | Karlshamn | AAK Sweden AB                  | OLJEFABRIKEN 2 (SOCKERBRUKET 19) | 556478-1796 |   6091.179 |\n",
       "| Blekinge län | Karlshamn | Karlshamnsverket               | KÖLÖ 1 (KARLSHAMN 8:18-20)       | 556112-5666 |   5290.000 |\n",
       "| Blekinge län | Karlshamn | Gasturbin Karlshamn            | KÖLÖ 2                           | 556112-5666 |    250.492 |\n",
       "| Dalarnas län | Borlänge  | SSAB EMEA AB                   | JÄRNVERKET 1                     | 556313-7933 | 241000.000 |\n",
       "| Dalarnas län | Avesta    | Outokumpu Stainless AB, Avesta | AVESTA 5:1                       | 556001-8748 | 134578.380 |\n",
       "\n"
      ],
      "text/plain": [
       "  Län          Kommun    Anläggning                    \n",
       "1 Blekinge län Karlshamn Södra Cell Mörrum             \n",
       "2 Blekinge län Karlshamn AAK Sweden AB                 \n",
       "3 Blekinge län Karlshamn Karlshamnsverket              \n",
       "4 Blekinge län Karlshamn Gasturbin Karlshamn           \n",
       "5 Dalarnas län Borlänge  SSAB EMEA AB                  \n",
       "6 Dalarnas län Avesta    Outokumpu Stainless AB, Avesta\n",
       "  Fastighetsbeteckning             Organisationsnummer Utsläpp (ton CO2-ekv)\n",
       "1 ELLEHOLM 35:1 (RÄVABYGGET 4:1)   729500-3789          41488.700           \n",
       "2 OLJEFABRIKEN 2 (SOCKERBRUKET 19) 556478-1796           6091.179           \n",
       "3 KÖLÖ 1 (KARLSHAMN 8:18-20)       556112-5666           5290.000           \n",
       "4 KÖLÖ 2                           556112-5666            250.492           \n",
       "5 JÄRNVERKET 1                     556313-7933         241000.000           \n",
       "6 AVESTA 5:1                       556001-8748         134578.380           "
      ]
     },
     "metadata": {},
     "output_type": "display_data"
    }
   ],
   "source": [
    "head(lansvis)"
   ]
  },
  {
   "cell_type": "code",
   "execution_count": null,
   "metadata": {},
   "outputs": [],
   "source": []
  }
 ],
 "metadata": {
  "kernelspec": {
   "display_name": "R",
   "language": "R",
   "name": "ir"
  },
  "language_info": {
   "codemirror_mode": "r",
   "file_extension": ".r",
   "mimetype": "text/x-r-source",
   "name": "R",
   "pygments_lexer": "r",
   "version": "3.6.2"
  }
 },
 "nbformat": 4,
 "nbformat_minor": 2
}
